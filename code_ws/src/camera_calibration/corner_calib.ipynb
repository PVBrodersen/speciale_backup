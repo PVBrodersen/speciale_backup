{
 "cells": [
  {
   "cell_type": "markdown",
   "metadata": {},
   "source": [
    "# Notebook for calibration of camera intrinsics and extrinsics "
   ]
  },
  {
   "cell_type": "markdown",
   "metadata": {},
   "source": [
    "### Includes "
   ]
  },
  {
   "cell_type": "code",
   "execution_count": 1,
   "metadata": {},
   "outputs": [],
   "source": [
    "import sys\n",
    "import numpy as np\n",
    "import glob\n",
    "import cv2\n",
    "import os"
   ]
  },
  {
   "cell_type": "markdown",
   "metadata": {},
   "source": [
    "## ZED corner calibration"
   ]
  },
  {
   "cell_type": "markdown",
   "metadata": {},
   "source": [
    "### Definitions"
   ]
  },
  {
   "cell_type": "code",
   "execution_count": 31,
   "metadata": {},
   "outputs": [
    {
     "name": "stdout",
     "output_type": "stream",
     "text": [
      "200.0\n",
      "2250.0\n"
     ]
    }
   ],
   "source": [
    "\n",
    "images_zed = glob.glob('../Images/zed*.jpg')\n",
    "\n",
    "params = cv2.SimpleBlobDetector_Params()\n",
    "\n",
    "\n",
    "params.filterByArea = True\n",
    "params.minArea = 200\n",
    "params.maxArea = 2250\n",
    "print(params.minArea)\n",
    "print(params.maxArea)\n",
    "\n",
    "# Filter by Circularity (optional, based on grid shape).\n",
    "params.filterByCircularity = False\n",
    "\n",
    "# Filter by Convexity (optional).\n",
    "params.filterByConvexity = True\n",
    "params.minConvexity = 0.75\n",
    "\n",
    "# Filter by Inertia (optional).\n",
    "params.filterByInertia = False\n",
    "\n",
    "\n",
    "\n",
    "detector = cv2.SimpleBlobDetector_create(params)\n",
    "\n",
    "roi_size = 20\n",
    "\n",
    "\n",
    "criteria = (cv2.TERM_CRITERIA_EPS + cv2.TERM_CRITERIA_MAX_ITER, 30, 0.001)\n",
    "kernel = np.ones((3,3),np.uint8)\n",
    "search_window_size = (5,5)\n",
    "zero_zone = (-1,-1)\n",
    "grid_size = (6,10)"
   ]
  },
  {
   "cell_type": "markdown",
   "metadata": {},
   "source": [
    "### Corner detection"
   ]
  },
  {
   "cell_type": "code",
   "execution_count": 34,
   "metadata": {},
   "outputs": [],
   "source": [
    "for fname in images_zed: \n",
    "    img = cv2.imread(fname)\n",
    "    #cv2.imshow(\"temp\",img)\n",
    "    all_corners = []\n",
    "\n",
    "    gray = cv2.cvtColor(img,cv2.COLOR_BGR2GRAY)\n",
    "    _, thresh = cv2.threshold(gray, 25, 255, cv2.THRESH_BINARY)\n",
    "    \n",
    "    thresh = cv2.bitwise_not(thresh)\n",
    "\n",
    "    #thresh = cv2.morphologyEx(thresh,cv2.MORPH_OPEN, kernel)\n",
    "    #thresh = cv2.morphologyEx(thresh,cv2.MORPH_TOPHAT, kernel)\n",
    "    thresh = cv2.morphologyEx(thresh,cv2.MORPH_CLOSE,kernel)\n",
    "    keypoints = detector.detect(thresh)\n",
    "    \n",
    "    im_with_keypoints = cv2.drawKeypoints(img, \n",
    "                                          keypoints, \n",
    "                                          np.array([]), \n",
    "                                          (0, 0, 255), \n",
    "                                          cv2.DRAW_MATCHES_FLAGS_DRAW_RICH_KEYPOINTS)\n",
    "    points = np.array([kp.pt for kp in keypoints], dtype=np.float32)\n",
    "    thresh_3_chnl = cv2.cvtColor(thresh,cv2.COLOR_GRAY2BGR)\n",
    "    comparison_img = cv2.vconcat([thresh_3_chnl,im_with_keypoints])\n",
    "    cv2.imshow(\"Thresholded and Keypoints\", comparison_img)\n",
    "   \n",
    "    for point in points:\n",
    "     x, y = int(point[0]),int(point[1])\n",
    "     \n",
    "     # Step 2 Define the ROI around center point\n",
    "     x_start = max(0,x-roi_size)\n",
    "     y_start = max(0,y-roi_size)\n",
    "\n",
    "     x_end = min(gray.shape[1],x+roi_size)\n",
    "     y_end = min(gray.shape[0],y+roi_size)\n",
    "\n",
    "     roi = gray[y_start:y_end,x_start:x_end]\n",
    "\n",
    "     corners = cv2.goodFeaturesToTrack(roi, maxCorners=4,qualityLevel=0.01, minDistance=5)\n",
    "\n",
    "     if corners is not None:\n",
    "        for corner in corners:\n",
    "           cx, cy = corner.ravel()\n",
    "           all_corners.append([cx+x_start,cy+y_start])\n",
    "    all_corners_np = np.array(all_corners, dtype=np.float32).reshape(-1,1,2)\n",
    "\n",
    "    refined_corners = cv2.cornerSubPix(\n",
    "       gray,\n",
    "       all_corners_np,\n",
    "       search_window_size,\n",
    "       zero_zone,\n",
    "       criteria\n",
    "    )\n",
    "    for corner in refined_corners:\n",
    "       cv2.circle(img,(int(corner[0][0]),int(corner[0][1])),2,(255,255,0),-1)\n",
    "    \n",
    "    #cv2.imshow('Refined corners',img)\n",
    "\n",
    "\n",
    "    cv2.waitKey(0)\n",
    "\n",
    "cv2.destroyAllWindows()"
   ]
  },
  {
   "cell_type": "code",
   "execution_count": 16,
   "metadata": {},
   "outputs": [
    {
     "name": "stdout",
     "output_type": "stream",
     "text": [
      "Corners not found.\n",
      "Corners not found.\n",
      "Corners not found.\n",
      "Corners not found.\n",
      "Corners not found.\n",
      "Corners not found.\n",
      "Corners not found.\n",
      "Corners not found.\n",
      "Corners not found.\n",
      "Corners not found.\n",
      "Corners not found.\n",
      "Corners not found.\n",
      "Corners not found.\n",
      "Corners not found.\n",
      "Corners not found.\n",
      "Corners not found.\n",
      "Corners not found.\n",
      "Corners not found.\n",
      "Corners not found.\n",
      "Corners not found.\n",
      "Corners not found.\n",
      "Corners not found.\n"
     ]
    }
   ],
   "source": [
    "for fname in images_zed:\n",
    "    img = cv2.imread(fname)\n",
    "\n",
    "    all_corners = []\n",
    "\n",
    "    gray = cv2.cvtColor(img, cv2.COLOR_BGR2GRAY)\n",
    "\n",
    "    _, thresh = cv2.threshold(gray, 100, 255, cv2.THRESH_BINARY)\n",
    "\n",
    "    ret, corners = cv2.findChessboardCorners(thresh, grid_size, None)\n",
    "    \n",
    "    if ret: \n",
    "        corners = cv2.cornerSubPix(gray, corners, search_window_size, zero_zone, criteria)\n",
    "\n",
    "\n",
    "        cv2.drawChessboardCorners(img, grid_size, corners, ret)\n",
    "\n",
    "        cv2.imshow('Detected corners', img)\n",
    "        cv2.waitKey(0)\n",
    "        cv2.destroyAllWindows()\n",
    "    else:\n",
    "        print(\"Corners not found.\")    "
   ]
  },
  {
   "cell_type": "markdown",
   "metadata": {},
   "source": [
    "### Calibration of Intrinsics "
   ]
  },
  {
   "cell_type": "code",
   "execution_count": null,
   "metadata": {},
   "outputs": [],
   "source": [
    "# *Put code here, WIP* "
   ]
  },
  {
   "cell_type": "markdown",
   "metadata": {},
   "source": [
    "## Flir corner calibration"
   ]
  },
  {
   "cell_type": "markdown",
   "metadata": {},
   "source": [
    "### Definitions "
   ]
  },
  {
   "cell_type": "code",
   "execution_count": 60,
   "metadata": {},
   "outputs": [],
   "source": [
    "images_flir = glob.glob('../Images/FLIR*.jpg')\n",
    "output_path = \"../Calib_corners/\"\n",
    "params = cv2.SimpleBlobDetector_Params()\n",
    "params.filterByArea = True#True\n",
    "params.minArea = 500\n",
    "params.maxArea = 1700\n",
    "\n",
    "# Filter by Circularity (optional, based on grid shape).\n",
    "params.filterByCircularity = False\n",
    "\n",
    "# Filter by Convexity (optional).\n",
    "params.filterByConvexity = True\n",
    "params.minConvexity = 0.875\n",
    "\n",
    "# Filter by Inertia (optional).\n",
    "params.filterByInertia = False\n",
    "\n",
    "detector = cv2.SimpleBlobDetector_create(params)\n",
    "\n",
    "roi_size = 40\n",
    "\n",
    "\n",
    "criteria = (cv2.TERM_CRITERIA_EPS + cv2.TERM_CRITERIA_MAX_ITER, 30, 0.001)\n",
    "search_window_size = (5,5)\n",
    "zero_zone = (-1,-1)\n",
    "\n",
    "kernel = np.ones((3,3),np.uint8)"
   ]
  },
  {
   "cell_type": "markdown",
   "metadata": {},
   "source": [
    "### Corner detection"
   ]
  },
  {
   "cell_type": "code",
   "execution_count": 66,
   "metadata": {},
   "outputs": [],
   "source": [
    "#img_cnt = 1\n",
    "for fname in images_flir: \n",
    "    img = cv2.imread(fname)\n",
    "    #cv2.imshow(\"temp\",img)\n",
    "    all_corners = []\n",
    "      \n",
    "    gray = cv2.cvtColor(img,cv2.COLOR_BGR2GRAY)\n",
    "    gray = cv2.GaussianBlur(gray, (5,5),0)\n",
    "    thresh = cv2.adaptiveThreshold(gray,255,cv2.ADAPTIVE_THRESH_GAUSSIAN_C,cv2.THRESH_BINARY,73,-1)\n",
    "    #_, thresh = cv2.threshold(gray, 200, 255, cv2.THRESH_BINARY)\n",
    "    thresh = cv2.bitwise_not(thresh)\n",
    "    #thresh = cv2.morphologyEx(thresh,cv2.MORPH_CLOSE, kernel)\n",
    "    keypoints = detector.detect(thresh)\n",
    "    \n",
    "    im_with_keypoints = cv2.drawKeypoints(img, \n",
    "                                          keypoints, \n",
    "                                          np.array([]), \n",
    "                                          (0, 0, 255), \n",
    "                                          cv2.DRAW_MATCHES_FLAGS_DRAW_RICH_KEYPOINTS)\n",
    "    points = np.array([kp.pt for kp in keypoints], dtype=np.float32)\n",
    "    thresh_3_chnl = cv2.cvtColor(thresh,cv2.COLOR_GRAY2BGR)\n",
    "    comparison_img = cv2.vconcat([thresh_3_chnl,im_with_keypoints])\n",
    "    cv2.imshow(\"Thresholded and Keypoints\", comparison_img)\n",
    "    #output_name = output_path+\"FLIR_comparisson_\"+str(img_cnt)+'.jpg'\n",
    "    #cv2.imwrite(output_name,comparison_img)\n",
    "    #img_cnt+=1\n",
    "    #cv2.imshow(\"Grayscale\", gray)  \n",
    "    for point in points:\n",
    "     x, y = int(point[0]),int(point[1])\n",
    "     \n",
    "     # Step 2 Define the ROI around center point\n",
    "     x_start = max(0,x-roi_size)\n",
    "     y_start = max(0,y-roi_size)\n",
    "\n",
    "     x_end = min(gray.shape[1],x+roi_size)\n",
    "     y_end = min(gray.shape[0],y+roi_size)\n",
    "\n",
    "     roi = gray[y_start:y_end,x_start:x_end]\n",
    "\n",
    "     corners = cv2.goodFeaturesToTrack(roi, maxCorners=4,qualityLevel=0.05,useHarrisDetector=False, minDistance=30)\n",
    "\n",
    "     if corners is not None:\n",
    "        for corner in corners:\n",
    "           cx, cy = corner.ravel()\n",
    "           all_corners.append([cx+x_start,cy+y_start])\n",
    "    all_corners_np = np.array(all_corners, dtype=np.float32).reshape(-1,1,2)\n",
    "\n",
    "    refined_corners = cv2.cornerSubPix(\n",
    "       gray,\n",
    "       all_corners_np,\n",
    "       search_window_size,\n",
    "       zero_zone,\n",
    "       criteria\n",
    "    )\n",
    "    for corner in refined_corners:\n",
    "       cv2.circle(img,(int(corner[0][0]),int(corner[0][1])),2,(255,255,0),-1)\n",
    "    \n",
    "    #cv2.imshow('Refined corners',img)\n",
    "\n",
    "\n",
    "    cv2.waitKey(0)\n",
    "\n",
    "cv2.destroyAllWindows()"
   ]
  }
 ],
 "metadata": {
  "kernelspec": {
   "display_name": "Python 3",
   "language": "python",
   "name": "python3"
  },
  "language_info": {
   "codemirror_mode": {
    "name": "ipython",
    "version": 3
   },
   "file_extension": ".py",
   "mimetype": "text/x-python",
   "name": "python",
   "nbconvert_exporter": "python",
   "pygments_lexer": "ipython3",
   "version": "3.10.12"
  }
 },
 "nbformat": 4,
 "nbformat_minor": 2
}
