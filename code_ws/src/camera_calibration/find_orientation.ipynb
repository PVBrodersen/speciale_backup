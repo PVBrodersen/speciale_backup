{
 "cells": [
  {
   "cell_type": "markdown",
   "metadata": {},
   "source": [
    "## Find orientation of camera "
   ]
  },
  {
   "cell_type": "code",
   "execution_count": 2,
   "metadata": {},
   "outputs": [],
   "source": [
    "import numpy as np\n",
    "import csv\n",
    "import pandas as pd"
   ]
  },
  {
   "cell_type": "code",
   "execution_count": 5,
   "metadata": {},
   "outputs": [
    {
     "name": "stdout",
     "output_type": "stream",
     "text": [
      "        idx  imu_Timestamp[sec]   orX[deg]  orY[deg]  orZ[deg]  Unnamed: 5\n",
      "0     59183        1.738142e+09 -19.851929 -0.149390  0.298369         NaN\n",
      "1     59184        1.738142e+09 -19.854818 -0.149275  0.303244         NaN\n",
      "2     59185        1.738142e+09 -19.851130 -0.149269  0.307974         NaN\n",
      "3     59186        1.738142e+09 -19.855740 -0.149128  0.304953         NaN\n",
      "4     59187        1.738142e+09 -19.853065 -0.149484  0.309310         NaN\n",
      "...     ...                 ...        ...       ...       ...         ...\n",
      "5391  64574        1.738142e+09 -19.893154 -0.111355  0.299273         NaN\n",
      "5392  64575        1.738142e+09 -19.888531 -0.111460  0.299207         NaN\n",
      "5393  64576        1.738142e+09 -19.894489 -0.111558  0.298610         NaN\n",
      "5394  64577        1.738142e+09 -19.888813 -0.111585  0.298675         NaN\n",
      "5395  64578        1.738142e+09 -19.893679 -0.111779  0.299159         NaN\n",
      "\n",
      "[5396 rows x 6 columns]\n",
      "0.30138765965066716 -19.883949488337844 -0.12438729693569311\n"
     ]
    }
   ],
   "source": [
    "file_name = \"/home/philip/uni/20250129_101237-ZED2i-sn_32616525-ZEDSensorsData.csv\"\n",
    "x, y, z = [],[],[]\n",
    "df = pd.read_csv(file_name)\n",
    "print(df)\n",
    "\n",
    "x = df['orX[deg]'].mean()\n",
    "y = df['orY[deg]'].mean()\n",
    "z = df['orZ[deg]'].mean()\n",
    "\n",
    "print(z,x,y)"
   ]
  }
 ],
 "metadata": {
  "kernelspec": {
   "display_name": "Python 3",
   "language": "python",
   "name": "python3"
  },
  "language_info": {
   "codemirror_mode": {
    "name": "ipython",
    "version": 3
   },
   "file_extension": ".py",
   "mimetype": "text/x-python",
   "name": "python",
   "nbconvert_exporter": "python",
   "pygments_lexer": "ipython3",
   "version": "3.10.12"
  }
 },
 "nbformat": 4,
 "nbformat_minor": 2
}
